{
 "cells": [
  {
   "cell_type": "code",
   "execution_count": null,
   "id": "c70b1b72",
   "metadata": {
    "scrolled": true
   },
   "outputs": [],
   "source": [
    "# Bước 1: Import module turtle\n",
    "import turtle\n",
    "\n",
    "# Bước 2: Tạo đối tượng turtle\n",
    "tl = turtle.Turtle()\n",
    "tl.shape('turtle')\n",
    "tl.pensize(5)\n",
    "tl.pencolor('red')\n",
    "tl.speed(1)\n",
    "tl.fillcolor('blue')\n",
    "\n",
    "# Bước 3: Điều khiển đối tượng tl\n",
    "#1 Vẽ hình chữ nhật\n",
    "tl.begin_fill()\n",
    "tl.forward(200)\n",
    "tl.right(90)\n",
    "tl.backward(100)\n",
    "tl.right(90)\n",
    "tl.forward(200)\n",
    "tl.left(90)\n",
    "tl.forward(100)\n",
    "tl.end_fill()\n",
    "# 2 Vẽ hình tròn màu vàng bên dưới hình chữ nhật\n",
    "tl.penup()\n",
    "tl.forward(100)\n",
    "tl.fillcolor('yellow')\n",
    "tl.begin_fill()\n",
    "tl.pendown()\n",
    "tl.circle(50)\n",
    "tl.end_fill()\n",
    "\n",
    "#3 Vẽ ngôi sao màu xanh lá bên trái hình tròn \n",
    "tl.penup()\n",
    "tl.right(90)\n",
    "tl.forward(200)\n",
    "tl.fillcolor('blue')\n",
    "tl.begin_fill()\n",
    "tl.pendown()\n",
    "tl.circle(50)\n",
    "tl.end_fill()\n",
    "# Bước 4: Hoàn thành vẽ\n",
    "turtle.done()\n",
    "\n",
    "\n"
   ]
  },
  {
   "cell_type": "code",
   "execution_count": null,
   "id": "36a56623",
   "metadata": {},
   "outputs": [],
   "source": []
  },
  {
   "cell_type": "code",
   "execution_count": null,
   "id": "203505e8",
   "metadata": {},
   "outputs": [],
   "source": []
  },
  {
   "cell_type": "code",
   "execution_count": null,
   "id": "60fef309",
   "metadata": {},
   "outputs": [],
   "source": []
  }
 ],
 "metadata": {
  "kernelspec": {
   "display_name": "Python 3 (ipykernel)",
   "language": "python",
   "name": "python3"
  },
  "language_info": {
   "codemirror_mode": {
    "name": "ipython",
    "version": 3
   },
   "file_extension": ".py",
   "mimetype": "text/x-python",
   "name": "python",
   "nbconvert_exporter": "python",
   "pygments_lexer": "ipython3",
   "version": "3.9.7"
  }
 },
 "nbformat": 4,
 "nbformat_minor": 5
}
