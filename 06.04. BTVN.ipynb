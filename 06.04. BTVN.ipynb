{
 "cells": [
  {
   "cell_type": "code",
   "execution_count": 2,
   "id": "c54f1e87",
   "metadata": {},
   "outputs": [
    {
     "name": "stdout",
     "output_type": "stream",
     "text": [
      "Nhập họ tên đầy đủ của bạn: hoàng     văn    QUang\n",
      "Hoàng Văn Quang "
     ]
    }
   ],
   "source": [
    "#Bài 1: Nhập vào họ tên 1 người, chuẩn hóa tên in ra màn hình\n",
    "name = str(input('Nhập họ tên đầy đủ của bạn: '))\n",
    "#Chia, chuyển về chữ thường và xóa khoảng trắng\n",
    "name = name.split(' ').lower().strip()\n",
    "for i in name:\n",
    "     if i != '':\n",
    "            i = i[0].upper() + i[1:]\n",
    "            print(i, end=' ')\n"
   ]
  },
  {
   "cell_type": "code",
   "execution_count": 45,
   "id": "9be09578",
   "metadata": {},
   "outputs": [
    {
     "name": "stdout",
     "output_type": "stream",
     "text": [
      "Nhập mã vạch của hàng hóa: 4902778120972\n",
      "Mã vạch đúng\n"
     ]
    }
   ],
   "source": [
    "# Bài 2: Kiểm tra mã vạch\n",
    "mavach = input('Nhập mã vạch của hàng hóa: ')\n",
    "C = int(mavach[12])\n",
    "A = 0\n",
    "B = 0\n",
    "i = 0\n",
    "#Tính A, B\n",
    "while i <12:\n",
    "    if i== 0 or i == 2 or i == 4 or i == 6 or i == 8 or i == 10:\n",
    "        A += int(mavach[i])\n",
    "        i+=1\n",
    "    else: \n",
    "        B += int(mavach[i])\n",
    "        i += 1\n",
    "# Tính D\n",
    "D = A+3*B\n",
    "\n",
    "if D%10!=0:\n",
    "    F = 10 -(D%10)\n",
    "else: \n",
    "    F = 0\n",
    "if F == C:\n",
    "    print('Mã vạch đúng')\n",
    "else:\n",
    "    print('Sai mã vạch')\n",
    "\n",
    "    "
   ]
  },
  {
   "cell_type": "code",
   "execution_count": null,
   "id": "50a78623",
   "metadata": {},
   "outputs": [],
   "source": []
  },
  {
   "cell_type": "code",
   "execution_count": null,
   "id": "4f948e31",
   "metadata": {},
   "outputs": [],
   "source": []
  }
 ],
 "metadata": {
  "kernelspec": {
   "display_name": "Python 3 (ipykernel)",
   "language": "python",
   "name": "python3"
  },
  "language_info": {
   "codemirror_mode": {
    "name": "ipython",
    "version": 3
   },
   "file_extension": ".py",
   "mimetype": "text/x-python",
   "name": "python",
   "nbconvert_exporter": "python",
   "pygments_lexer": "ipython3",
   "version": "3.9.7"
  }
 },
 "nbformat": 4,
 "nbformat_minor": 5
}
