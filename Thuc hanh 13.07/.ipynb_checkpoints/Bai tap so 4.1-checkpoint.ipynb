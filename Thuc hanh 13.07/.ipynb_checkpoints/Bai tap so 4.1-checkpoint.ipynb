{
 "cells": [
  {
   "cell_type": "code",
   "execution_count": null,
   "id": "a560bb07",
   "metadata": {
    "scrolled": false
   },
   "outputs": [
    {
     "name": "stdout",
     "output_type": "stream",
     "text": [
      "117.55705045849463\n"
     ]
    }
   ],
   "source": [
    "#Vẽ ngũ giác đều\n",
    "import turtle\n",
    "import math\n",
    "t = turtle.Turtle()\n",
    "#n là số tam giác tạo nên đa giác đều\n",
    "#TH1\n",
    "n = 5\n",
    "canh = 100\n",
    "goc_tam = 360/n\n",
    "goc_can = (180 - goc_tam)/2\n",
    "canh_day = 2*canh*(math.sqrt(1 - math.sin(math.radians(goc_can))**2))\n",
    "x = math.sin(math.radians(goc_can))\n",
    "#Vẽ tam giác số 1\n",
    "t.left(goc_tam/2)\n",
    "t.forward(canh)\n",
    "t.right(180-goc_can)\n",
    "t.forward(canh_day)\n",
    "t.right(180 - goc_can)\n",
    "t.forward(canh)\n",
    "t.right(goc_tam)    \n",
    "#vẽ hình tam giác số 2\n",
    "t.left(goc_tam/2)\n",
    "t.forward(canh)\n",
    "t.right(180-goc_can)\n",
    "t.forward(canh_day)\n",
    "t.right(180 - goc_can)\n",
    "t.forward(canh)\n",
    "t.right(goc_tam)  \n",
    "#vẽ hình tam giác số 3\n",
    "t.left(goc_tam/2)\n",
    "t.forward(canh)\n",
    "t.right(180-goc_can)\n",
    "t.forward(canh_day)\n",
    "t.right(180 - goc_can)\n",
    "t.forward(canh)\n",
    "t.right(goc_tam)  \n",
    "#vẽ hình tam giác số 4\n",
    "t.left(goc_tam/2)\n",
    "t.forward(canh)\n",
    "t.right(180-goc_can)\n",
    "t.forward(canh_day)\n",
    "t.right(180 - goc_can)\n",
    "t.forward(canh)\n",
    "t.right(goc_tam)  \n",
    "#vẽ hình tam giác số 5\n",
    "t.left(goc_tam/2)\n",
    "t.forward(canh)\n",
    "t.right(180-goc_can)\n",
    "t.forward(canh_day)\n",
    "t.right(180 - goc_can)\n",
    "t.forward(canh)\n",
    "t.right(goc_tam)  \n",
    "turtle.done()"
   ]
  },
  {
   "cell_type": "code",
   "execution_count": null,
   "id": "de21762c",
   "metadata": {},
   "outputs": [],
   "source": []
  },
  {
   "cell_type": "code",
   "execution_count": null,
   "id": "bd1e0090",
   "metadata": {},
   "outputs": [],
   "source": []
  }
 ],
 "metadata": {
  "kernelspec": {
   "display_name": "Python 3 (ipykernel)",
   "language": "python",
   "name": "python3"
  },
  "language_info": {
   "codemirror_mode": {
    "name": "ipython",
    "version": 3
   },
   "file_extension": ".py",
   "mimetype": "text/x-python",
   "name": "python",
   "nbconvert_exporter": "python",
   "pygments_lexer": "ipython3",
   "version": "3.9.7"
  }
 },
 "nbformat": 4,
 "nbformat_minor": 5
}
