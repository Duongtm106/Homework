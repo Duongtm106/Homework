{
 "cells": [
  {
   "cell_type": "code",
   "execution_count": 1,
   "id": "a560bb07",
   "metadata": {},
   "outputs": [],
   "source": [
    "#Vẽ ngũ giác đều\n",
    "import turtle\n",
    "t = turtle.Turtle()\n",
    "canh = 50\n",
    "goc = 60\n",
    "#vẽ hình tam giác đầu tiên\n",
    "t.left(30)\n",
    "t.forward(canh)\n",
    "t.left(120)\n",
    "t.forward(canh)\n",
    "t.left(120)\n",
    "t.forward(canh)\n",
    "#Vẽ hình tam giác thứ 2\n",
    "t.left(120)\n",
    "t.forward(canh)\n",
    "t.left(120)\n",
    "t.forward(canh)\n",
    "t.left(120)\n",
    "t.forward(canh)\n",
    "#Vẽ hình tam giác thứ 3\n",
    "t.left(120)\n",
    "t.forward(canh)\n",
    "t.left(120)\n",
    "t.forward(canh)\n",
    "t.left(120)\n",
    "t.forward(canh)\n",
    "#Vẽ hình tam giác thứ 4\n",
    "t.left(120)\n",
    "t.forward(canh)\n",
    "t.left(120)\n",
    "t.forward(canh)\n",
    "t.left(120)\n",
    "t.forward(canh)\n",
    "#Vẽ hình tam giác thứ 5\n",
    "t.left(120)\n",
    "t.forward(canh)\n",
    "t.left(120)\n",
    "t.forward(canh)\n",
    "t.left(120)\n",
    "t.forward(canh)\n",
    "turtle.done()"
   ]
  }
 ],
 "metadata": {
  "kernelspec": {
   "display_name": "Python 3 (ipykernel)",
   "language": "python",
   "name": "python3"
  },
  "language_info": {
   "codemirror_mode": {
    "name": "ipython",
    "version": 3
   },
   "file_extension": ".py",
   "mimetype": "text/x-python",
   "name": "python",
   "nbconvert_exporter": "python",
   "pygments_lexer": "ipython3",
   "version": "3.9.7"
  }
 },
 "nbformat": 4,
 "nbformat_minor": 5
}
