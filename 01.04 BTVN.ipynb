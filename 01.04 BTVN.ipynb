{
 "cells": [
  {
   "cell_type": "code",
   "execution_count": 18,
   "id": "adbfa8e6",
   "metadata": {},
   "outputs": [
    {
     "name": "stdout",
     "output_type": "stream",
     "text": [
      "Nhập số thứ nhất: -1\n",
      "Nhập số thứ hai: 2\n",
      "Nhập số thứ ba: 3\n",
      "-1, 2, 3 không thỏa mãn điều kiện nguyên dương\n"
     ]
    }
   ],
   "source": [
    "# Bài 1: Nhập ba số tự nhiên, xét xem ba số đó có phải là bộ ba số Pitago hay không\n",
    "# Bước 1: Nhập ba số tự nhiên\n",
    "a = int(input('Nhập số thứ nhất: '))\n",
    "b = int(input('Nhập số thứ hai: '))\n",
    "c = int(input('Nhập số thứ ba: '))\n",
    "# Bước hai: Xác định 3 số đó là bộ số Pitago. (thỏa mãn khi nguyên dương và bình phương số này bằng tổng bình phương 2 số kia)\n",
    "if a>0 and b>0 and c>0:\n",
    "    if (a**2 == b**2 + c**2) or (b**2 == a**2 + c**2) or (c**2 == a**2 + b**2):\n",
    "        print('{0}, {1}, {2} là bộ ba số Pitago'.format(a, b, c ))\n",
    "    else:\n",
    "        print('{0}, {1}, {2} không phải là bộ ba số Pitago'.format(a, b, c ))\n",
    "else:\n",
    "    print('{0}, {1}, {2} không thỏa mãn điều kiện cả ba số nguyên dương'. format(a, b, c))\n",
    "\n",
    "    \n",
    "    \n"
   ]
  },
  {
   "cell_type": "code",
   "execution_count": 10,
   "id": "0434988a",
   "metadata": {},
   "outputs": [
    {
     "name": "stdout",
     "output_type": "stream",
     "text": [
      "Nhập số phút gọi phát sinh trong tháng: 200\n",
      "Cước điện thoại của bạn trong tháng là:  115000 đ\n"
     ]
    }
   ],
   "source": [
    "# Bài 2: Tính cước điện thoại bàn\n",
    "# Bước 1: Nhập số phút gọi trong tháng\n",
    "sophut = int(input('Nhập số phút gọi phát sinh trong tháng: '))\n",
    "phi_thue_bao = 25000\n",
    "#Tính cho 50p đầu tiên\n",
    "if sophut <= 50:\n",
    "    tien_cuoc = phi_thue_bao + (sophut*600)\n",
    "    print('Cước điện thoại của bạn trong tháng là: ', tien_cuoc, 'đ')\n",
    "elif sophut <= 200:\n",
    "    tien_cuoc = phi_thue_bao + 50*600 + (sophut-50)*400\n",
    "    print('Cước điện thoại của bạn trong tháng là: ', tien_cuoc, 'đ')\n",
    "elif sophut >200:\n",
    "    tien_cuoc = phi_thue_bao + 50*600 + 150*400 + (sophut-200)*200\n",
    "    print('Cước điện thoại của bạn trong tháng là: ', tien_cuoc, 'đ')"
   ]
  },
  {
   "cell_type": "code",
   "execution_count": 17,
   "id": "7a5f11e0",
   "metadata": {},
   "outputs": [
    {
     "name": "stdout",
     "output_type": "stream",
     "text": [
      "Nhập 1 số tự nhiên: 3\n",
      "Thứ 5\n"
     ]
    }
   ],
   "source": [
    "# Bài 3: Nhập số tự nhiên từ 0 - 6\n",
    "number = int(input('Nhập 1 số tự nhiên: '))\n",
    "if number == 0:\n",
    "    print('Thứ 2')\n",
    "elif number == 1:\n",
    "    print('Thứ 3')\n",
    "elif number == 2:\n",
    "    print('Thứ 4')\n",
    "elif number == 3:\n",
    "    print('Thứ 5')\n",
    "elif number == 4:\n",
    "    print('Thứ 6')\n",
    "elif number == 5:\n",
    "    print('Thứ 7')\n",
    "elif number == 6:\n",
    "    print('Chủ nhật')\n",
    "else:\n",
    "    print('Lỗi nhập dữ liệu đầu vào')\n",
    "\n"
   ]
  },
  {
   "cell_type": "markdown",
   "id": "20ae05ab",
   "metadata": {},
   "source": []
  }
 ],
 "metadata": {
  "kernelspec": {
   "display_name": "Python 3 (ipykernel)",
   "language": "python",
   "name": "python3"
  },
  "language_info": {
   "codemirror_mode": {
    "name": "ipython",
    "version": 3
   },
   "file_extension": ".py",
   "mimetype": "text/x-python",
   "name": "python",
   "nbconvert_exporter": "python",
   "pygments_lexer": "ipython3",
   "version": "3.9.7"
  }
 },
 "nbformat": 4,
 "nbformat_minor": 5
}
