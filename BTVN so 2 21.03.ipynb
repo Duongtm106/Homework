{
 "cells": [
  {
   "cell_type": "code",
   "execution_count": 1,
   "id": "e688c55f",
   "metadata": {},
   "outputs": [],
   "source": [
    "# Nhập đối tượng\n",
    "import turtle\n",
    "#Tạo đối tượng turtle\n",
    "dg10 = turtle.Turtle()\n",
    "dg10.shape('turtle')\n",
    "dg10.pensize(1)\n",
    "dg10.pencolor()\n",
    "dg10.speed(1)\n",
    "dg10.fillcolor('orange')\n",
    "# Điều khiển đối tượng dg10\n",
    "dg10.begin_fill()\n",
    "dg10.left(90)\n",
    "dg10.penup()\n",
    "dg10.forward(100)\n",
    "dg10.left(90)\n",
    "dg10.pendown()\n",
    "#Vẽ cạnh\n",
    "dg10.forward(25)\n",
    "#cạnh 1\n",
    "dg10.left(36)\n",
    "dg10.forward(50)\n",
    "#cạnh 2\n",
    "dg10.left(36)\n",
    "dg10.forward(50)\n",
    "#cạnh 3\n",
    "dg10.left(36)\n",
    "dg10.forward(50)\n",
    "#cạnh 4\n",
    "dg10.left(36)\n",
    "dg10.forward(50)\n",
    "#cạnh 5\n",
    "dg10.left(36)\n",
    "dg10.forward(50)\n",
    "#cạnh 6\n",
    "dg10.left(36)\n",
    "dg10.forward(50)\n",
    "#cạnh 7\n",
    "dg10.left(36)\n",
    "dg10.forward(50)\n",
    "#cạnh 8\n",
    "dg10.left(36)\n",
    "dg10.forward(50)\n",
    "#cạnh 9\n",
    "dg10.left(36)\n",
    "dg10.forward(50)\n",
    "#cạnh 10\n",
    "dg10.left(36)\n",
    "dg10.forward(50)\n",
    "dg10.end_fill()\n",
    "\n",
    "\n",
    "#Hoàn thành\n",
    "turtle.done()"
   ]
  }
 ],
 "metadata": {
  "kernelspec": {
   "display_name": "Python 3 (ipykernel)",
   "language": "python",
   "name": "python3"
  },
  "language_info": {
   "codemirror_mode": {
    "name": "ipython",
    "version": 3
   },
   "file_extension": ".py",
   "mimetype": "text/x-python",
   "name": "python",
   "nbconvert_exporter": "python",
   "pygments_lexer": "ipython3",
   "version": "3.9.7"
  }
 },
 "nbformat": 4,
 "nbformat_minor": 5
}
