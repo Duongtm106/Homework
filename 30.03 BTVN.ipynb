{
 "cells": [
  {
   "cell_type": "code",
   "execution_count": 4,
   "id": "5bca2ee9",
   "metadata": {},
   "outputs": [
    {
     "name": "stdout",
     "output_type": "stream",
     "text": [
      "Bạn đang nghĩ gì: abd left\n",
      "Bạn có bị block hay không False\n"
     ]
    }
   ],
   "source": [
    "#block post dính tới từ nhạy cảm:  sex, racist, violence, child abuse\n",
    "#Nhập đoạn post\n",
    "post = input('Bạn đang nghĩ gì: ')\n",
    "post = post.split()\n",
    "#Gắn quy định cho các từ khóa bị cấm\n",
    "block_1 = ('sex' in post) or ('SEX' in post)\n",
    "block_2 = ('racist' in post) or ('RACIST' in post)\n",
    "block_3 = ('violence' in post) or ('VIOLENCE' in post)\n",
    "block_4 = ('child abuse' in post) or ('CHILD ABUSE' in post)\n",
    "#Kiểm tra trong post có từ vi phạm hay không\n",
    "print('Bạn có bị block hay không',block_1 or block_2 or block_3 or block_4 in post == True)"
   ]
  },
  {
   "cell_type": "code",
   "execution_count": null,
   "id": "4cf22286",
   "metadata": {},
   "outputs": [],
   "source": []
  },
  {
   "cell_type": "code",
   "execution_count": null,
   "id": "cb787561",
   "metadata": {},
   "outputs": [],
   "source": []
  },
  {
   "cell_type": "code",
   "execution_count": null,
   "id": "85eea894",
   "metadata": {},
   "outputs": [],
   "source": []
  }
 ],
 "metadata": {
  "kernelspec": {
   "display_name": "Python 3 (ipykernel)",
   "language": "python",
   "name": "python3"
  },
  "language_info": {
   "codemirror_mode": {
    "name": "ipython",
    "version": 3
   },
   "file_extension": ".py",
   "mimetype": "text/x-python",
   "name": "python",
   "nbconvert_exporter": "python",
   "pygments_lexer": "ipython3",
   "version": "3.9.7"
  }
 },
 "nbformat": 4,
 "nbformat_minor": 5
}
