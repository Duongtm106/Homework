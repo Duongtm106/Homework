{
 "cells": [
  {
   "cell_type": "code",
   "execution_count": 55,
   "id": "5dac94ba",
   "metadata": {},
   "outputs": [
    {
     "name": "stdout",
     "output_type": "stream",
     "text": [
      "A, B, C là 3 đỉnh của tam giác True\n",
      "ABC là tam giác cân False\n",
      "ABC là tam giác đều False\n",
      "ABC là tam giác vuông False\n",
      "ABC là tam giác thường True\n"
     ]
    }
   ],
   "source": [
    "# Nhập hàm toán\n",
    "import math\n",
    "# Nhập tọa độ ba điểm A, B, C\n",
    "# tọa độ điểm A\n",
    "xA = 1\n",
    "yA = 3\n",
    "# tọa độ điểm B\n",
    "xB = 3\n",
    "yB = 5\n",
    "# tọa độ điểm C\n",
    "xC = 7\n",
    "yC = 9\n",
    "# A, B, C là đỉnh của tam giác khi tổng chiều dài hai cạnh bất kỳ luôn lớn hơn cạnh còn lại\n",
    "# Chiều dài đoạn AB\n",
    "AB = math.sqrt(math.pow(xB-xA, 2) + math.pow(yB-yA,2))\n",
    "# Chiều dài đoạn AC\n",
    "AC = math.sqrt(math.pow(xC-xA, 2) + math.pow(yC-yA,2))\n",
    "# Chiều dài đoạn BC\n",
    "BC = math.sqrt(math.pow(xC-xB, 2) + math.pow(yC-yB,2))\n",
    "# Kiểm tra chiều dài tổng hai cạnh bất kỳ luôn lớn hơn cạnh còn lại\n",
    "check1 = (BC < AB + AC) and (AC < AB + BC) and (AB < AC + BC)\n",
    "print('A, B, C là 3 đỉnh của tam giác', check1)\n",
    "# Kiểm tra tam giác cân, đều, vuông\n",
    "# Tam giác cân. Tam giác cân là tam giác có 02 cạnh bằng nhau\n",
    "check2 = (check1 == True) and ((AB == AC) or (AC == BC) or (AB == BC))\n",
    "print('ABC là tam giác cân', check2)\n",
    "# Tam giác đều. Tam giác đều là tam giác có 03 cạnh bằng nhau\n",
    "check3 = (check1 == True) and (AB == AC == BC)\n",
    "print('ABC là tam giác đều', check3)\n",
    "# Tam giác vuông. Tam giác vuông có bình phương cạnh huyền bằng tổng bình phương hai cạnh góc vuông\n",
    "check4 = (check1 == True) and ((AB**2 == AC**2 + BC**2) or (AC**2 == AB**2 + BC**2) or (BC**2 == AB**2 + AC**2))\n",
    "print('ABC là tam giác vuông', check4)\n",
    "# Tam giác thường\n",
    "check5 = (check1 == True) and (check2 == False) and (check3 == False) and (check4 == False)\n",
    "print('ABC là tam giác thường', check5)\n"
   ]
  },
  {
   "cell_type": "code",
   "execution_count": null,
   "id": "4841529c",
   "metadata": {},
   "outputs": [],
   "source": []
  },
  {
   "cell_type": "code",
   "execution_count": null,
   "id": "e2653512",
   "metadata": {},
   "outputs": [],
   "source": []
  },
  {
   "cell_type": "code",
   "execution_count": null,
   "id": "34eaa91b",
   "metadata": {},
   "outputs": [],
   "source": []
  },
  {
   "cell_type": "code",
   "execution_count": null,
   "id": "4b54f8a6",
   "metadata": {},
   "outputs": [],
   "source": []
  },
  {
   "cell_type": "code",
   "execution_count": null,
   "id": "e8947115",
   "metadata": {},
   "outputs": [],
   "source": []
  }
 ],
 "metadata": {
  "kernelspec": {
   "display_name": "Python 3 (ipykernel)",
   "language": "python",
   "name": "python3"
  },
  "language_info": {
   "codemirror_mode": {
    "name": "ipython",
    "version": 3
   },
   "file_extension": ".py",
   "mimetype": "text/x-python",
   "name": "python",
   "nbconvert_exporter": "python",
   "pygments_lexer": "ipython3",
   "version": "3.9.7"
  }
 },
 "nbformat": 4,
 "nbformat_minor": 5
}
