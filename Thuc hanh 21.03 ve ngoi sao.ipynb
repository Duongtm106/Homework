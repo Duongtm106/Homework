{
 "cells": [
  {
   "cell_type": "code",
   "execution_count": 1,
   "id": "2379c6c2",
   "metadata": {},
   "outputs": [],
   "source": [
    "#1 Nhập đối tượng\n",
    "import turtle\n",
    "\n",
    "#2 tạo đối tượng\n",
    "star = turtle.Turtle()\n",
    "star.shape('turtle')\n",
    "star.hideturtle()\n",
    "star.pensize(2)\n",
    "star.pencolor('yellow')\n",
    "star.speed(1)\n",
    "star.fillcolor('green')\n",
    "\n",
    "#3 Điều khiển đối tượng\n",
    "star.begin_fill()\n",
    "#cạnh 1\n",
    "star.forward(200)\n",
    "star.right(144)\n",
    "#cạnh 2\n",
    "star.forward(200)\n",
    "star.right(144)\n",
    "#cạnh 3\n",
    "star.forward(200)\n",
    "star.right(144)\n",
    "#cạnh 4\n",
    "star.forward(200)\n",
    "star.right(144)\n",
    "#cạnh 5\n",
    "star.forward(200)\n",
    "star.right(144)\n",
    "#tô màu\n",
    "star.end_fill()\n",
    "\n",
    "turtle.done()"
   ]
  }
 ],
 "metadata": {
  "kernelspec": {
   "display_name": "Python 3 (ipykernel)",
   "language": "python",
   "name": "python3"
  },
  "language_info": {
   "codemirror_mode": {
    "name": "ipython",
    "version": 3
   },
   "file_extension": ".py",
   "mimetype": "text/x-python",
   "name": "python",
   "nbconvert_exporter": "python",
   "pygments_lexer": "ipython3",
   "version": "3.9.7"
  }
 },
 "nbformat": 4,
 "nbformat_minor": 5
}
