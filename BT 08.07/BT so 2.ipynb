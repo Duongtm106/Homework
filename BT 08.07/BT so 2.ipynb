{
 "cells": [
  {
   "cell_type": "code",
   "execution_count": 1,
   "id": "f7cfd354",
   "metadata": {},
   "outputs": [],
   "source": [
    "import turtle\n",
    "t = turtle.Turtle()\n",
    "#Vẽ hình vuông thứ nhất\n",
    "t.penup()\n",
    "t.forward(25)\n",
    "t.right(90)\n",
    "t.forward(25)\n",
    "t.left(90)\n",
    "t.pendown()\n",
    "#1/2 cạnh 1\n",
    "t.forward(50)\n",
    "#cạnh 2\n",
    "t.left(90)\n",
    "t.forward(100)\n",
    "#cạnh 3\n",
    "t.left(90)\n",
    "t.forward(100)\n",
    "#cạnh 4\n",
    "t.left(90)\n",
    "t.forward(100)\n",
    "#1/2 cạnh 1\n",
    "t.left(90)\n",
    "t.forward(50)\n",
    "#Hình vuông thứ 2\n",
    "#1/2 cạnh 1\n",
    "t.left(90)\n",
    "t.forward(50)\n",
    "#cạnh 2\n",
    "t.left(90)\n",
    "t.forward(100)\n",
    "#cạnh 3\n",
    "t.left(90)\n",
    "t.forward(100)\n",
    "#cạnh 4\n",
    "t.left(90)\n",
    "t.forward(100)\n",
    "#1/2 cạnh 1\n",
    "t.left(90)\n",
    "t.forward(50)\n",
    "turtle.done()"
   ]
  }
 ],
 "metadata": {
  "kernelspec": {
   "display_name": "Python 3 (ipykernel)",
   "language": "python",
   "name": "python3"
  },
  "language_info": {
   "codemirror_mode": {
    "name": "ipython",
    "version": 3
   },
   "file_extension": ".py",
   "mimetype": "text/x-python",
   "name": "python",
   "nbconvert_exporter": "python",
   "pygments_lexer": "ipython3",
   "version": "3.9.7"
  }
 },
 "nbformat": 4,
 "nbformat_minor": 5
}
