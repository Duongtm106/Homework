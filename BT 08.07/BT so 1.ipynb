{
 "cells": [
  {
   "cell_type": "code",
   "execution_count": 1,
   "id": "6f39674b",
   "metadata": {},
   "outputs": [],
   "source": [
    "#Bài tập 1\n",
    "import turtle\n",
    "import math\n",
    "x = math.sqrt(2)\n",
    "v = turtle.Turtle()\n",
    "canh = 200\n",
    "#Vẽ hình vuông thứ nhất (chéo)\n",
    "v.penup()\n",
    "v.forward(canh/2*x)\n",
    "v.pendown()\n",
    "#cạnh 1\n",
    "v.left(135)\n",
    "v.forward(canh)\n",
    "#cạnh 2\n",
    "v.left(90)\n",
    "v.forward(canh)\n",
    "#cạnh 3\n",
    "v.left(90)\n",
    "v.forward(canh)\n",
    "#cạnh 4\n",
    "v.left(90)\n",
    "v.forward(canh)\n",
    "#Vẽ hình vuông thứ 2 (thẳng)\n",
    "v.left(135)\n",
    "v.penup()\n",
    "v.forward(canh/2*(x-1))\n",
    "v.pendown()\n",
    "#cạnh1 1/2\n",
    "v.right(90)\n",
    "v.forward(canh/2)\n",
    "#cạnh 2\n",
    "v.left(90)\n",
    "v.forward(canh)\n",
    "#cạnh 3\n",
    "v.left(90)\n",
    "v.forward(canh)\n",
    "#cạnh 4 \n",
    "v.left(90)\n",
    "v.forward(canh)\n",
    "#cạnh 1 1/2\n",
    "v.left(90)\n",
    "v.forward(canh)\n",
    "turtle.done()"
   ]
  },
  {
   "cell_type": "code",
   "execution_count": null,
   "id": "b6b1460b",
   "metadata": {},
   "outputs": [],
   "source": []
  }
 ],
 "metadata": {
  "kernelspec": {
   "display_name": "Python 3 (ipykernel)",
   "language": "python",
   "name": "python3"
  },
  "language_info": {
   "codemirror_mode": {
    "name": "ipython",
    "version": 3
   },
   "file_extension": ".py",
   "mimetype": "text/x-python",
   "name": "python",
   "nbconvert_exporter": "python",
   "pygments_lexer": "ipython3",
   "version": "3.9.7"
  }
 },
 "nbformat": 4,
 "nbformat_minor": 5
}
