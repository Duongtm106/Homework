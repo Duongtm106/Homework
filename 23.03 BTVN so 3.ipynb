{
 "cells": [
  {
   "cell_type": "code",
   "execution_count": 3,
   "id": "6b63727e",
   "metadata": {},
   "outputs": [
    {
     "name": "stdout",
     "output_type": "stream",
     "text": [
      "Hình hộp chữ nhật chứa được tối đa 19314 hình lập phương\n"
     ]
    }
   ],
   "source": [
    "# Nhập 3 cạnh của hình hộp chữ nhật (HHCN)\n",
    "x = 111\n",
    "y = 87\n",
    "z = 56\n",
    "# Nhập cạnh hình lập phương (HLP)\n",
    "a = 3\n",
    "# Tính thể tích hình hộp chữ nhật\n",
    "Thetich1 = x*y*z\n",
    "# Sức chứa tối đa của HHCN sẽ tương ương với mỗi cạnh của HHCN chứa được tối đa bao nhiêu HLP (lấy phần nguyên)\n",
    "b = x//a\n",
    "c = y//a\n",
    "d = z//a\n",
    "succhuatoida = b*c*d\n",
    "print('Hình hộp chữ nhật chứa được tối đa',succhuatoida,'hình lập phương')"
   ]
  },
  {
   "cell_type": "code",
   "execution_count": null,
   "id": "cc493946",
   "metadata": {},
   "outputs": [],
   "source": []
  }
 ],
 "metadata": {
  "kernelspec": {
   "display_name": "Python 3 (ipykernel)",
   "language": "python",
   "name": "python3"
  },
  "language_info": {
   "codemirror_mode": {
    "name": "ipython",
    "version": 3
   },
   "file_extension": ".py",
   "mimetype": "text/x-python",
   "name": "python",
   "nbconvert_exporter": "python",
   "pygments_lexer": "ipython3",
   "version": "3.9.7"
  }
 },
 "nbformat": 4,
 "nbformat_minor": 5
}
