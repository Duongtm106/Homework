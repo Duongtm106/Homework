{
 "cells": [
  {
   "cell_type": "code",
   "execution_count": 1,
   "id": "c7f9684d",
   "metadata": {},
   "outputs": [
    {
     "name": "stdout",
     "output_type": "stream",
     "text": [
      "Nhập điểm kiểm tra 15'của bạn: 1\n",
      "Nhập điểm giữa kỳ của bạn: 1\n",
      "Nhập điểm thi cuối kỳ của bạn: 1\n",
      "Bạn đạt loại yếu\n",
      "1.0\n"
     ]
    }
   ],
   "source": [
    "# Bài số 1: Nhập điểm và xếp loại\n",
    "diem15 = int(input(r\"Nhập điểm kiểm tra 15'của bạn: \"))\n",
    "diemgiuaky = int(input('Nhập điểm giữa kỳ của bạn: '))\n",
    "diemcuoiky = int(input('Nhập điểm thi cuối kỳ của bạn: '))\n",
    "diemtrungbinh = (diem15 + diemgiuaky*1.5 + diemcuoiky*2)/4.5\n",
    "if (0>diem15 or diem15>10) or (diemgiuaky<0 or diemgiuaky>10) or (diemcuoiky<0 or diemgiuaky>10):\n",
    "    print('Bạn nhập sai dữ liệu')\n",
    "else:\n",
    "    if diemtrungbinh>=8:\n",
    "        print('Bạn đạt loại giỏi')\n",
    "    elif diemtrungbinh>=6.5:\n",
    "        print('Bạn đạt loại khá')\n",
    "    elif diemtrungbinh>=5:\n",
    "        print('Bạn đạt loại trung bình')\n",
    "    else:\n",
    "        print('Bạn đạt loại yếu')\n",
    "    print(diemtrungbinh)"
   ]
  },
  {
   "cell_type": "code",
   "execution_count": 33,
   "id": "aac0c75b",
   "metadata": {},
   "outputs": [
    {
     "name": "stdout",
     "output_type": "stream",
     "text": [
      "Nhập hệ số a: 2\n",
      "Nhập hệ số b: 3\n",
      "Nhập hệ số c: 4\n",
      " 3x 4\n"
     ]
    }
   ],
   "source": [
    "a = int(input('Nhập hệ số a: '))\n",
    "b = int(input('Nhập hệ số b: '))\n",
    "c = int(input('Nhập hệ số c: '))\n",
    "bac2 = str(str('')+ str('x^2')) if a ==1 else str(str('-')+str('x^2')) if a ==-1 else str('') if a!=0 else str(str(a) + str('x^2'))\n",
    "bac2 = str(a) + str('x^2') if a==1 else str('')\n",
    "bac1 = str(b) + str('x') if b!=0 else str('')\n",
    "hangso = str(c) if c!=0 else str('')\n",
    "print(bac2, bac1, hangso)\n"
   ]
  },
  {
   "cell_type": "code",
   "execution_count": 32,
   "id": "c9e7f842",
   "metadata": {},
   "outputs": [
    {
     "name": "stdout",
     "output_type": "stream",
     "text": [
      "Nhập a:2\n",
      "số dương\n"
     ]
    }
   ],
   "source": [
    "a = int(input('Nhập a:'))\n",
    "xet = 'số dương' if a>0 else 'số âm' if a<0 else int(0)\n",
    "print(xet)"
   ]
  },
  {
   "cell_type": "code",
   "execution_count": null,
   "id": "e0dd78f0",
   "metadata": {},
   "outputs": [],
   "source": []
  },
  {
   "cell_type": "markdown",
   "id": "73f89793",
   "metadata": {},
   "source": [
    "# "
   ]
  },
  {
   "cell_type": "code",
   "execution_count": null,
   "id": "0cc58dae",
   "metadata": {},
   "outputs": [],
   "source": []
  }
 ],
 "metadata": {
  "kernelspec": {
   "display_name": "Python 3 (ipykernel)",
   "language": "python",
   "name": "python3"
  },
  "language_info": {
   "codemirror_mode": {
    "name": "ipython",
    "version": 3
   },
   "file_extension": ".py",
   "mimetype": "text/x-python",
   "name": "python",
   "nbconvert_exporter": "python",
   "pygments_lexer": "ipython3",
   "version": "3.9.7"
  }
 },
 "nbformat": 4,
 "nbformat_minor": 5
}
